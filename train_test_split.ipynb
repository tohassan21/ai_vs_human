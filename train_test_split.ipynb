{
 "cells": [
  {
   "cell_type": "code",
   "execution_count": 13,
   "id": "2533e3df-6aa9-4d74-b831-a1ec8ed19293",
   "metadata": {},
   "outputs": [],
   "source": [
    "import os\n",
    "import pandas as pd\n",
    "\n",
    "image_path = \"./Resources/TrainingImages/\"\n",
    "\n",
    "df = pd.read_csv(\"./Resources/train.csv\")\n",
    "\n",
    "df[\"file_name\"] = df[\"file_name\"].str.replace(\"train_data/\", \"\")"
   ]
  },
  {
   "cell_type": "code",
   "execution_count": 15,
   "id": "2396c0e1-fb3c-4f99-8a16-943a2aec85b3",
   "metadata": {},
   "outputs": [
    {
     "data": {
      "text/html": [
       "<div>\n",
       "<style scoped>\n",
       "    .dataframe tbody tr th:only-of-type {\n",
       "        vertical-align: middle;\n",
       "    }\n",
       "\n",
       "    .dataframe tbody tr th {\n",
       "        vertical-align: top;\n",
       "    }\n",
       "\n",
       "    .dataframe thead th {\n",
       "        text-align: right;\n",
       "    }\n",
       "</style>\n",
       "<table border=\"1\" class=\"dataframe\">\n",
       "  <thead>\n",
       "    <tr style=\"text-align: right;\">\n",
       "      <th></th>\n",
       "      <th>Unnamed: 0</th>\n",
       "      <th>file_name</th>\n",
       "      <th>label</th>\n",
       "    </tr>\n",
       "  </thead>\n",
       "  <tbody>\n",
       "    <tr>\n",
       "      <th>0</th>\n",
       "      <td>0</td>\n",
       "      <td>a6dcb93f596a43249135678dfcfc17ea.jpg</td>\n",
       "      <td>1</td>\n",
       "    </tr>\n",
       "    <tr>\n",
       "      <th>1</th>\n",
       "      <td>1</td>\n",
       "      <td>041be3153810433ab146bc97d5af505c.jpg</td>\n",
       "      <td>0</td>\n",
       "    </tr>\n",
       "    <tr>\n",
       "      <th>2</th>\n",
       "      <td>2</td>\n",
       "      <td>615df26ce9494e5db2f70e57ce7a3a4f.jpg</td>\n",
       "      <td>1</td>\n",
       "    </tr>\n",
       "    <tr>\n",
       "      <th>3</th>\n",
       "      <td>3</td>\n",
       "      <td>8542fe161d9147be8e835e50c0de39cd.jpg</td>\n",
       "      <td>0</td>\n",
       "    </tr>\n",
       "    <tr>\n",
       "      <th>4</th>\n",
       "      <td>4</td>\n",
       "      <td>5d81fa12bc3b4cea8c94a6700a477cf2.jpg</td>\n",
       "      <td>1</td>\n",
       "    </tr>\n",
       "  </tbody>\n",
       "</table>\n",
       "</div>"
      ],
      "text/plain": [
       "   Unnamed: 0                             file_name  label\n",
       "0           0  a6dcb93f596a43249135678dfcfc17ea.jpg      1\n",
       "1           1  041be3153810433ab146bc97d5af505c.jpg      0\n",
       "2           2  615df26ce9494e5db2f70e57ce7a3a4f.jpg      1\n",
       "3           3  8542fe161d9147be8e835e50c0de39cd.jpg      0\n",
       "4           4  5d81fa12bc3b4cea8c94a6700a477cf2.jpg      1"
      ]
     },
     "execution_count": 15,
     "metadata": {},
     "output_type": "execute_result"
    }
   ],
   "source": [
    "df.head()"
   ]
  },
  {
   "cell_type": "code",
   "execution_count": 19,
   "id": "6b7c2048-9c7b-4749-b514-780810c49596",
   "metadata": {},
   "outputs": [],
   "source": [
    "for index, row in df.iterrows():\n",
    "    os.rename(f'{image_path}{row[\"file_name\"]}', f'{image_path}{row[\"label\"]}/{row[\"file_name\"]}')"
   ]
  },
  {
   "cell_type": "code",
   "execution_count": null,
   "id": "9ed115ec-393e-437a-8529-134d17501d21",
   "metadata": {},
   "outputs": [],
   "source": [
    "#for loop over each file set --> Random module (20% of the time, move to validation file\n",
    "#training0, testing0, training 1, testing1\n",
    "#tf.get image from directory, once for testing, once for training --> both use inferred method"
   ]
  },
  {
   "cell_type": "code",
   "execution_count": 31,
   "id": "79951032-34ca-4258-876d-01bf21824b5b",
   "metadata": {},
   "outputs": [],
   "source": [
    "#Randomly sample 20% of image set\n",
    "import random\n",
    "\n",
    "test_sample = int(len(os.listdir(f'{image_path}/0')) * 0.2)\n",
    "test_files = random.sample(os.listdir(f'{image_path}/0'), test_sample)"
   ]
  },
  {
   "cell_type": "code",
   "execution_count": 37,
   "id": "2718c97c-c023-4853-af83-0f5e7a8ef177",
   "metadata": {},
   "outputs": [
    {
     "data": {
      "text/plain": [
       "['4d7f187ea7104899b0bf20b5219c69d1.jpg',\n",
       " 'a6faa0b9b90440298b1caa88f610efad.jpg',\n",
       " 'eb3dd55bcfcb4c4dac8742b0004b4a30.jpg',\n",
       " '2b6211e5e47d43d3a3b7ee0c06182a0a.jpg',\n",
       " 'b2255267b06b448984d3bb1695036c03.jpg']"
      ]
     },
     "execution_count": 37,
     "metadata": {},
     "output_type": "execute_result"
    }
   ],
   "source": [
    "test_files[:5]"
   ]
  },
  {
   "cell_type": "code",
   "execution_count": 53,
   "id": "794911d8-87de-4a98-b3ef-8efe1e3dadbd",
   "metadata": {},
   "outputs": [],
   "source": [
    "#Move real images to testing\n",
    "for row in test_files:\n",
    "    os.rename(f'{image_path}0/{row}', f'./Resources/TestingImages/0/{row}')"
   ]
  },
  {
   "cell_type": "code",
   "execution_count": 57,
   "id": "a4546b0a-beeb-4dc7-b45c-314b1500860f",
   "metadata": {},
   "outputs": [],
   "source": [
    "#Move AI images to testing\n",
    "test_files2 = random.sample(os.listdir(f'{image_path}/1'), test_sample)\n",
    "\n",
    "for row in test_files2:\n",
    "    os.rename(f'{image_path}1/{row}', f'./Resources/TestingImages/1/{row}')"
   ]
  }
 ],
 "metadata": {
  "kernelspec": {
   "display_name": "Python 3 (ipykernel)",
   "language": "python",
   "name": "python3"
  },
  "language_info": {
   "codemirror_mode": {
    "name": "ipython",
    "version": 3
   },
   "file_extension": ".py",
   "mimetype": "text/x-python",
   "name": "python",
   "nbconvert_exporter": "python",
   "pygments_lexer": "ipython3",
   "version": "3.12.4"
  }
 },
 "nbformat": 4,
 "nbformat_minor": 5
}
