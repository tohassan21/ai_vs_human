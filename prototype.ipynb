{
 "cells": [
  {
   "cell_type": "code",
   "execution_count": 15,
   "metadata": {
    "vscode": {
     "languageId": "plaintext"
    }
   },
   "outputs": [],
   "source": [
    "# Dependencies\n",
    "import matplotlib.pyplot as plt\n",
    "%matplotlib inline\n",
    "\n",
    "import pandas as pd\n",
    "import os\n",
    "import numpy as np\n",
    "import tensorflow as tf\n",
    "\n",
    "from tensorflow.keras import datasets, layers, models\n",
    "from tensorflow.keras.utils import image_dataset_from_directory\n",
    "from tensorflow.keras.preprocessing import image\n",
    "from tensorflow.keras.models import Sequential\n",
    "from tensorflow.keras.layers import Conv2D, MaxPooling2D, Flatten, Dense\n",
    "from tensorflow.keras.applications.xception import (\n",
    "  Xception, preprocess_input, decode_predictions)"
   ]
  },
  {
   "cell_type": "code",
   "execution_count": 73,
   "metadata": {
    "vscode": {
     "languageId": "plaintext"
    }
   },
   "outputs": [
    {
     "data": {
      "text/html": [
       "<div>\n",
       "<style scoped>\n",
       "    .dataframe tbody tr th:only-of-type {\n",
       "        vertical-align: middle;\n",
       "    }\n",
       "\n",
       "    .dataframe tbody tr th {\n",
       "        vertical-align: top;\n",
       "    }\n",
       "\n",
       "    .dataframe thead th {\n",
       "        text-align: right;\n",
       "    }\n",
       "</style>\n",
       "<table border=\"1\" class=\"dataframe\">\n",
       "  <thead>\n",
       "    <tr style=\"text-align: right;\">\n",
       "      <th></th>\n",
       "      <th>file_name</th>\n",
       "      <th>label</th>\n",
       "    </tr>\n",
       "  </thead>\n",
       "  <tbody>\n",
       "    <tr>\n",
       "      <th>0</th>\n",
       "      <td>./Resources/TrainingImages/a6dcb93f596a4324913...</td>\n",
       "      <td>1</td>\n",
       "    </tr>\n",
       "    <tr>\n",
       "      <th>1</th>\n",
       "      <td>./Resources/TrainingImages/041be3153810433ab14...</td>\n",
       "      <td>0</td>\n",
       "    </tr>\n",
       "    <tr>\n",
       "      <th>2</th>\n",
       "      <td>./Resources/TrainingImages/615df26ce9494e5db2f...</td>\n",
       "      <td>1</td>\n",
       "    </tr>\n",
       "    <tr>\n",
       "      <th>3</th>\n",
       "      <td>./Resources/TrainingImages/8542fe161d9147be8e8...</td>\n",
       "      <td>0</td>\n",
       "    </tr>\n",
       "    <tr>\n",
       "      <th>4</th>\n",
       "      <td>./Resources/TrainingImages/5d81fa12bc3b4cea8c9...</td>\n",
       "      <td>1</td>\n",
       "    </tr>\n",
       "  </tbody>\n",
       "</table>\n",
       "</div>"
      ],
      "text/plain": [
       "                                           file_name label\n",
       "0  ./Resources/TrainingImages/a6dcb93f596a4324913...     1\n",
       "1  ./Resources/TrainingImages/041be3153810433ab14...     0\n",
       "2  ./Resources/TrainingImages/615df26ce9494e5db2f...     1\n",
       "3  ./Resources/TrainingImages/8542fe161d9147be8e8...     0\n",
       "4  ./Resources/TrainingImages/5d81fa12bc3b4cea8c9...     1"
      ]
     },
     "execution_count": 73,
     "metadata": {},
     "output_type": "execute_result"
    }
   ],
   "source": [
    "# data_path = \"./Resources/\"\n",
    "image_path = \"./Resources/TrainingImages/\"\n",
    "\n",
    "training_df = pd.read_csv(\"./Resources/train.csv\")\n",
    "\n",
    "training_df = training_df.drop(\"Unnamed: 0\", axis=1)\n",
    "\n",
    "training_df[\"label\"] = training_df[\"label\"].astype(str)\n",
    "\n",
    "training_df[\"file_name\"] = training_df[\"file_name\"].str.replace(\"train_data\", \"./Resources/TrainingImages\")\n",
    "\n",
    "#training_df[\"file_name\"] = data_path + training_df[\"file_name\"]\n",
    "\n",
    "training_df.head()"
   ]
  },
  {
   "cell_type": "code",
   "execution_count": 55,
   "metadata": {
    "vscode": {
     "languageId": "plaintext"
    }
   },
   "outputs": [
    {
     "name": "stdout",
     "output_type": "stream",
     "text": [
      "<class 'pandas.core.frame.DataFrame'>\n",
      "RangeIndex: 79950 entries, 0 to 79949\n",
      "Data columns (total 2 columns):\n",
      " #   Column     Non-Null Count  Dtype \n",
      "---  ------     --------------  ----- \n",
      " 0   file_name  79950 non-null  object\n",
      " 1   label      79950 non-null  object\n",
      "dtypes: object(2)\n",
      "memory usage: 1.2+ MB\n"
     ]
    }
   ],
   "source": [
    "training_df.info()"
   ]
  },
  {
   "cell_type": "code",
   "execution_count": 85,
   "metadata": {
    "vscode": {
     "languageId": "plaintext"
    }
   },
   "outputs": [
    {
     "name": "stdout",
     "output_type": "stream",
     "text": [
      "Found 63960 validated image filenames belonging to 2 classes.\n",
      "Found 15990 validated image filenames belonging to 2 classes.\n"
     ]
    }
   ],
   "source": [
    "rescaled_data = image.ImageDataGenerator(rescale=1./255, validation_split=0.2)\n",
    "train_generator = rescaled_data.flow_from_dataframe(\n",
    "    training_df,\n",
    "    x_col=\"file_name\",\n",
    "    y_col=\"label\",\n",
    "    target_size=(255, 255),\n",
    "    batch_size=32,\n",
    "    class_mode=\"binary\",\n",
    "    subset=\"training\")\n",
    "\n",
    "test_generator = rescaled_data.flow_from_dataframe(\n",
    "    training_df,\n",
    "    x_col=\"file_name\",\n",
    "    y_col=\"label\",\n",
    "    target_size=(255, 255),\n",
    "    batch_size=32,\n",
    "    class_mode=\"binary\",\n",
    "    subset=\"validation\")    "
   ]
  },
  {
   "cell_type": "code",
   "execution_count": 145,
   "metadata": {},
   "outputs": [
    {
     "data": {
      "text/plain": [
       "(array([[[[0.        , 0.        , 0.        ],\n",
       "          [0.00392157, 0.00392157, 0.00392157],\n",
       "          [0.00784314, 0.00784314, 0.00784314],\n",
       "          ...,\n",
       "          [0.        , 0.        , 0.01568628],\n",
       "          [0.        , 0.        , 0.01568628],\n",
       "          [0.        , 0.        , 0.01568628]],\n",
       " \n",
       "         [[0.01176471, 0.01176471, 0.01176471],\n",
       "          [0.01568628, 0.01568628, 0.01568628],\n",
       "          [0.01960784, 0.01960784, 0.01960784],\n",
       "          ...,\n",
       "          [0.        , 0.        , 0.00784314],\n",
       "          [0.        , 0.        , 0.00784314],\n",
       "          [0.        , 0.        , 0.00784314]],\n",
       " \n",
       "         [[0.00784314, 0.00784314, 0.00784314],\n",
       "          [0.01176471, 0.01176471, 0.01176471],\n",
       "          [0.01568628, 0.01568628, 0.01568628],\n",
       "          ...,\n",
       "          [0.        , 0.        , 0.00784314],\n",
       "          [0.        , 0.        , 0.00784314],\n",
       "          [0.        , 0.        , 0.00784314]],\n",
       " \n",
       "         ...,\n",
       " \n",
       "         [[0.        , 0.        , 0.        ],\n",
       "          [0.        , 0.        , 0.        ],\n",
       "          [0.        , 0.        , 0.        ],\n",
       "          ...,\n",
       "          [0.15294118, 0.11764707, 0.08235294],\n",
       "          [0.14117648, 0.1137255 , 0.07450981],\n",
       "          [0.12156864, 0.10588236, 0.0627451 ]],\n",
       " \n",
       "         [[0.        , 0.        , 0.        ],\n",
       "          [0.        , 0.        , 0.        ],\n",
       "          [0.        , 0.        , 0.        ],\n",
       "          ...,\n",
       "          [0.227451  , 0.14509805, 0.03921569],\n",
       "          [0.20000002, 0.12156864, 0.01568628],\n",
       "          [0.17254902, 0.10588236, 0.        ]],\n",
       " \n",
       "         [[0.        , 0.        , 0.        ],\n",
       "          [0.        , 0.        , 0.        ],\n",
       "          [0.        , 0.        , 0.        ],\n",
       "          ...,\n",
       "          [0.70980394, 0.5647059 , 0.3921569 ],\n",
       "          [0.73333335, 0.6       , 0.42352945],\n",
       "          [0.7490196 , 0.6156863 , 0.43921572]]],\n",
       " \n",
       " \n",
       "        [[[0.05882353, 0.05490196, 0.03921569],\n",
       "          [0.02745098, 0.02352941, 0.00784314],\n",
       "          [0.03529412, 0.03137255, 0.01176471],\n",
       "          ...,\n",
       "          [0.44705886, 0.43137258, 0.38431376],\n",
       "          [0.41176474, 0.39607847, 0.34901962],\n",
       "          [0.37254903, 0.35686275, 0.30980393]],\n",
       " \n",
       "         [[0.05490196, 0.0509804 , 0.03529412],\n",
       "          [0.02745098, 0.02352941, 0.00784314],\n",
       "          [0.05882353, 0.05490196, 0.03529412],\n",
       "          ...,\n",
       "          [0.30588236, 0.2901961 , 0.24313727],\n",
       "          [0.39607847, 0.3803922 , 0.33333334],\n",
       "          [0.34509805, 0.32941177, 0.28235295]],\n",
       " \n",
       "         [[0.0509804 , 0.04705883, 0.03137255],\n",
       "          [0.02352941, 0.01960784, 0.00392157],\n",
       "          [0.08235294, 0.07843138, 0.05882353],\n",
       "          ...,\n",
       "          [0.36862746, 0.3529412 , 0.30588236],\n",
       "          [0.3254902 , 0.30980393, 0.2627451 ],\n",
       "          [0.36078432, 0.34509805, 0.29803923]],\n",
       " \n",
       "         ...,\n",
       " \n",
       "         [[0.03921569, 0.02745098, 0.00784314],\n",
       "          [0.04313726, 0.03137255, 0.01176471],\n",
       "          [0.05490196, 0.04313726, 0.02352941],\n",
       "          ...,\n",
       "          [0.5686275 , 0.5254902 , 0.4156863 ],\n",
       "          [0.54901963, 0.5058824 , 0.39607847],\n",
       "          [0.454902  , 0.41176474, 0.29411766]],\n",
       " \n",
       "         [[0.03921569, 0.02745098, 0.00784314],\n",
       "          [0.04705883, 0.03529412, 0.01568628],\n",
       "          [0.0627451 , 0.0509804 , 0.03137255],\n",
       "          ...,\n",
       "          [0.40000004, 0.36862746, 0.2784314 ],\n",
       "          [0.5137255 , 0.48627454, 0.38431376],\n",
       "          [0.54509807, 0.5176471 , 0.40784317]],\n",
       " \n",
       "         [[0.0509804 , 0.03921569, 0.01960784],\n",
       "          [0.04705883, 0.03529412, 0.01568628],\n",
       "          [0.05490196, 0.04313726, 0.02352941],\n",
       "          ...,\n",
       "          [0.21568629, 0.18823531, 0.1137255 ],\n",
       "          [0.24705884, 0.22352943, 0.13725491],\n",
       "          [0.34509805, 0.32156864, 0.227451  ]]],\n",
       " \n",
       " \n",
       "        [[[0.9725491 , 0.9725491 , 0.96470594],\n",
       "          [0.9803922 , 0.9803922 , 0.9725491 ],\n",
       "          [0.97647065, 0.97647065, 0.9686275 ],\n",
       "          ...,\n",
       "          [0.8980393 , 1.        , 1.        ],\n",
       "          [0.9607844 , 1.        , 0.97647065],\n",
       "          [0.9450981 , 0.93725497, 0.9568628 ]],\n",
       " \n",
       "         [[0.97647065, 0.97647065, 0.9686275 ],\n",
       "          [0.98823535, 0.98823535, 0.9803922 ],\n",
       "          [0.9843138 , 0.9843138 , 0.97647065],\n",
       "          ...,\n",
       "          [0.882353  , 0.9843138 , 0.98823535],\n",
       "          [0.95294124, 0.9960785 , 0.96470594],\n",
       "          [1.        , 0.9960785 , 1.        ]],\n",
       " \n",
       "         [[0.9843138 , 0.9843138 , 0.97647065],\n",
       "          [0.9921569 , 0.9921569 , 0.9843138 ],\n",
       "          [0.98823535, 0.98823535, 0.9803922 ],\n",
       "          ...,\n",
       "          [0.8313726 , 0.9294118 , 0.9490197 ],\n",
       "          [0.9607844 , 0.9960785 , 0.97647065],\n",
       "          [1.        , 0.9921569 , 1.        ]],\n",
       " \n",
       "         ...,\n",
       " \n",
       "         [[0.67058825, 0.7568628 , 0.8117648 ],\n",
       "          [0.7176471 , 0.79215693, 0.8470589 ],\n",
       "          [0.7568628 , 0.82745105, 0.86666673],\n",
       "          ...,\n",
       "          [0.5019608 , 0.49803925, 0.3254902 ],\n",
       "          [0.45098042, 0.4431373 , 0.28235295],\n",
       "          [0.5764706 , 0.5686275 , 0.41960788]],\n",
       " \n",
       "         [[0.44705886, 0.6       , 0.72156864],\n",
       "          [0.5882353 , 0.7294118 , 0.854902  ],\n",
       "          [0.6627451 , 0.8078432 , 0.9215687 ],\n",
       "          ...,\n",
       "          [0.49803925, 0.48235297, 0.33333334],\n",
       "          [0.52156866, 0.5058824 , 0.36078432],\n",
       "          [0.6431373 , 0.627451  , 0.4901961 ]],\n",
       " \n",
       "         [[0.6117647 , 0.7176471 , 0.8313726 ],\n",
       "          [0.72156864, 0.83921576, 0.9490197 ],\n",
       "          [0.7254902 , 0.83921576, 0.9568628 ],\n",
       "          ...,\n",
       "          [0.56078434, 0.5411765 , 0.427451  ],\n",
       "          [0.58431375, 0.5647059 , 0.45098042],\n",
       "          [0.6392157 , 0.6156863 , 0.52156866]]],\n",
       " \n",
       " \n",
       "        ...,\n",
       " \n",
       " \n",
       "        [[[0.8196079 , 0.70980394, 0.5137255 ],\n",
       "          [0.5803922 , 0.5176471 , 0.38431376],\n",
       "          [0.38431376, 0.35686275, 0.29411766],\n",
       "          ...,\n",
       "          [0.30980393, 0.33333334, 0.28627452],\n",
       "          [0.28627452, 0.30980393, 0.25490198],\n",
       "          [0.3137255 , 0.32941177, 0.27450982]],\n",
       " \n",
       "         [[0.7568628 , 0.64705884, 0.4901961 ],\n",
       "          [0.4431373 , 0.38431376, 0.27058825],\n",
       "          [0.3137255 , 0.28235295, 0.23137257],\n",
       "          ...,\n",
       "          [0.28627452, 0.30980393, 0.2627451 ],\n",
       "          [0.27450982, 0.29803923, 0.2509804 ],\n",
       "          [0.3019608 , 0.31764707, 0.2627451 ]],\n",
       " \n",
       "         [[0.5568628 , 0.47450984, 0.3529412 ],\n",
       "          [0.48627454, 0.427451  , 0.34509805],\n",
       "          [0.31764707, 0.28627452, 0.23529413],\n",
       "          ...,\n",
       "          [0.2901961 , 0.3137255 , 0.27450982],\n",
       "          [0.28235295, 0.30588236, 0.26666668],\n",
       "          [0.29803923, 0.32156864, 0.27450982]],\n",
       " \n",
       "         ...,\n",
       " \n",
       "         [[0.32941177, 0.3529412 , 0.29803923],\n",
       "          [0.3372549 , 0.3647059 , 0.3019608 ],\n",
       "          [0.3372549 , 0.3647059 , 0.29411766],\n",
       "          ...,\n",
       "          [0.80392164, 0.64705884, 0.4039216 ],\n",
       "          [0.73333335, 0.58431375, 0.30588236],\n",
       "          [0.8352942 , 0.6901961 , 0.37254903]],\n",
       " \n",
       "         [[0.3372549 , 0.37254903, 0.30588236],\n",
       "          [0.34117648, 0.37647063, 0.3019608 ],\n",
       "          [0.34509805, 0.3803922 , 0.29803923],\n",
       "          ...,\n",
       "          [0.81568635, 0.6784314 , 0.41176474],\n",
       "          [0.7411765 , 0.6117647 , 0.29411766],\n",
       "          [0.8352942 , 0.7176471 , 0.34117648]],\n",
       " \n",
       "         [[0.34117648, 0.37647063, 0.30980393],\n",
       "          [0.34509805, 0.3803922 , 0.30588236],\n",
       "          [0.34901962, 0.38823533, 0.29411766],\n",
       "          ...,\n",
       "          [0.8431373 , 0.7137255 , 0.43529415],\n",
       "          [0.7725491 , 0.654902  , 0.31764707],\n",
       "          [0.8431373 , 0.7372549 , 0.33333334]]],\n",
       " \n",
       " \n",
       "        [[[0.8313726 , 0.77647066, 0.6392157 ],\n",
       "          [0.83921576, 0.7843138 , 0.64705884],\n",
       "          [0.8470589 , 0.79215693, 0.654902  ],\n",
       "          ...,\n",
       "          [0.77647066, 0.8431373 , 0.43529415],\n",
       "          [0.7725491 , 0.83921576, 0.43137258],\n",
       "          [0.7686275 , 0.8352942 , 0.427451  ]],\n",
       " \n",
       "         [[0.8313726 , 0.77647066, 0.6392157 ],\n",
       "          [0.83921576, 0.7843138 , 0.64705884],\n",
       "          [0.8470589 , 0.79215693, 0.654902  ],\n",
       "          ...,\n",
       "          [0.77647066, 0.8431373 , 0.43529415],\n",
       "          [0.77647066, 0.8431373 , 0.43529415],\n",
       "          [0.77647066, 0.8431373 , 0.43529415]],\n",
       " \n",
       "         [[0.8313726 , 0.77647066, 0.6392157 ],\n",
       "          [0.83921576, 0.7843138 , 0.64705884],\n",
       "          [0.8470589 , 0.79215693, 0.654902  ],\n",
       "          ...,\n",
       "          [0.7725491 , 0.83921576, 0.43137258],\n",
       "          [0.7725491 , 0.83921576, 0.43137258],\n",
       "          [0.77647066, 0.8431373 , 0.43529415]],\n",
       " \n",
       "         ...,\n",
       " \n",
       "         [[0.62352943, 0.52156866, 0.3921569 ],\n",
       "          [0.62352943, 0.52156866, 0.3921569 ],\n",
       "          [0.62352943, 0.52156866, 0.3921569 ],\n",
       "          ...,\n",
       "          [0.7843138 , 0.8431373 , 0.6117647 ],\n",
       "          [0.7803922 , 0.8431373 , 0.6       ],\n",
       "          [0.7686275 , 0.8313726 , 0.5882353 ]],\n",
       " \n",
       "         [[0.61960787, 0.5176471 , 0.38823533],\n",
       "          [0.61960787, 0.5176471 , 0.38823533],\n",
       "          [0.61960787, 0.5176471 , 0.38823533],\n",
       "          ...,\n",
       "          [0.7803922 , 0.83921576, 0.60784316],\n",
       "          [0.7725491 , 0.8352942 , 0.5921569 ],\n",
       "          [0.76470596, 0.82745105, 0.5803922 ]],\n",
       " \n",
       "         [[0.60784316, 0.5137255 , 0.3803922 ],\n",
       "          [0.60784316, 0.5137255 , 0.3803922 ],\n",
       "          [0.60784316, 0.5137255 , 0.3803922 ],\n",
       "          ...,\n",
       "          [0.7725491 , 0.8352942 , 0.5921569 ],\n",
       "          [0.7686275 , 0.8313726 , 0.5882353 ],\n",
       "          [0.7568628 , 0.8196079 , 0.57254905]]],\n",
       " \n",
       " \n",
       "        [[[0.26666668, 0.3647059 , 0.03529412],\n",
       "          [0.27450982, 0.37254903, 0.04705883],\n",
       "          [0.26666668, 0.36078432, 0.05490196],\n",
       "          ...,\n",
       "          [0.6392157 , 0.6862745 , 0.7490196 ],\n",
       "          [0.63529414, 0.68235296, 0.74509805],\n",
       "          [0.6313726 , 0.6784314 , 0.7411765 ]],\n",
       " \n",
       "         [[0.2627451 , 0.36078432, 0.03529412],\n",
       "          [0.26666668, 0.3647059 , 0.04705883],\n",
       "          [0.2627451 , 0.35686275, 0.05882353],\n",
       "          ...,\n",
       "          [0.6392157 , 0.6862745 , 0.7490196 ],\n",
       "          [0.63529414, 0.68235296, 0.74509805],\n",
       "          [0.6313726 , 0.6784314 , 0.7411765 ]],\n",
       " \n",
       "         [[0.25490198, 0.3529412 , 0.03529412],\n",
       "          [0.2627451 , 0.35686275, 0.0509804 ],\n",
       "          [0.25490198, 0.34901962, 0.0509804 ],\n",
       "          ...,\n",
       "          [0.6392157 , 0.6862745 , 0.7490196 ],\n",
       "          [0.63529414, 0.68235296, 0.74509805],\n",
       "          [0.6313726 , 0.6784314 , 0.7411765 ]],\n",
       " \n",
       "         ...,\n",
       " \n",
       "         [[0.40000004, 0.37647063, 0.17254902],\n",
       "          [0.3529412 , 0.32941177, 0.13333334],\n",
       "          [0.30980393, 0.29411766, 0.10588236],\n",
       "          ...,\n",
       "          [0.65882355, 0.67058825, 0.6901961 ],\n",
       "          [0.54901963, 0.56078434, 0.5803922 ],\n",
       "          [0.5019608 , 0.5137255 , 0.53333336]],\n",
       " \n",
       "         [[0.3019608 , 0.28627452, 0.09803922],\n",
       "          [0.2392157 , 0.227451  , 0.0509804 ],\n",
       "          [0.20392159, 0.19607845, 0.03529412],\n",
       "          ...,\n",
       "          [0.6117647 , 0.62352943, 0.6431373 ],\n",
       "          [0.5254902 , 0.5372549 , 0.5568628 ],\n",
       "          [0.4666667 , 0.4784314 , 0.49803925]],\n",
       " \n",
       "         [[0.20392159, 0.19215688, 0.02352941],\n",
       "          [0.18823531, 0.18039216, 0.02745098],\n",
       "          [0.15294118, 0.15294118, 0.01960784],\n",
       "          ...,\n",
       "          [0.5921569 , 0.6039216 , 0.62352943],\n",
       "          [0.5176471 , 0.5294118 , 0.54901963],\n",
       "          [0.454902  , 0.4666667 , 0.48627454]]]], dtype=float32),\n",
       " array([0., 0., 1., 1., 0., 1., 0., 1., 1., 0., 1., 0., 1., 1., 1., 0., 0.,\n",
       "        1., 1., 0., 0., 1., 1., 1., 1., 0., 1., 1., 0., 0., 0., 0.],\n",
       "       dtype=float32))"
      ]
     },
     "execution_count": 145,
     "metadata": {},
     "output_type": "execute_result"
    }
   ],
   "source": [
    "(train_generator[2])"
   ]
  },
  {
   "cell_type": "code",
   "execution_count": 163,
   "metadata": {},
   "outputs": [
    {
     "name": "stderr",
     "output_type": "stream",
     "text": [
      "C:\\Users\\sicke\\anaconda3\\Lib\\site-packages\\keras\\src\\layers\\convolutional\\base_conv.py:107: UserWarning: Do not pass an `input_shape`/`input_dim` argument to a layer. When using Sequential models, prefer using an `Input(shape)` object as the first layer in the model instead.\n",
      "  super().__init__(activity_regularizer=activity_regularizer, **kwargs)\n"
     ]
    }
   ],
   "source": [
    "model = models.Sequential()\n",
    "model.add(layers.Conv2D(32, (3, 3), activation='relu', input_shape=(255, 255, 3)))\n",
    "model.add(layers.MaxPooling2D((2, 2)))\n",
    "model.add(layers.Conv2D(64, (3, 3), activation='relu'))\n",
    "model.add(layers.MaxPooling2D((2, 2)))\n",
    "model.add(layers.Conv2D(64, (3, 3), activation='relu'))"
   ]
  },
  {
   "cell_type": "code",
   "execution_count": 165,
   "metadata": {},
   "outputs": [],
   "source": [
    "model.add(layers.Flatten())\n",
    "model.add(layers.Dense(64, activation='relu'))\n",
    "model.add(layers.Dense(2))"
   ]
  },
  {
   "cell_type": "code",
   "execution_count": 167,
   "metadata": {},
   "outputs": [
    {
     "data": {
      "text/html": [
       "<pre style=\"white-space:pre;overflow-x:auto;line-height:normal;font-family:Menlo,'DejaVu Sans Mono',consolas,'Courier New',monospace\"><span style=\"font-weight: bold\">Model: \"sequential_4\"</span>\n",
       "</pre>\n"
      ],
      "text/plain": [
       "\u001b[1mModel: \"sequential_4\"\u001b[0m\n"
      ]
     },
     "metadata": {},
     "output_type": "display_data"
    },
    {
     "data": {
      "text/html": [
       "<pre style=\"white-space:pre;overflow-x:auto;line-height:normal;font-family:Menlo,'DejaVu Sans Mono',consolas,'Courier New',monospace\">┏━━━━━━━━━━━━━━━━━━━━━━━━━━━━━━━━━━━━━━┳━━━━━━━━━━━━━━━━━━━━━━━━━━━━━┳━━━━━━━━━━━━━━━━━┓\n",
       "┃<span style=\"font-weight: bold\"> Layer (type)                         </span>┃<span style=\"font-weight: bold\"> Output Shape                </span>┃<span style=\"font-weight: bold\">         Param # </span>┃\n",
       "┡━━━━━━━━━━━━━━━━━━━━━━━━━━━━━━━━━━━━━━╇━━━━━━━━━━━━━━━━━━━━━━━━━━━━━╇━━━━━━━━━━━━━━━━━┩\n",
       "│ conv2d_12 (<span style=\"color: #0087ff; text-decoration-color: #0087ff\">Conv2D</span>)                   │ (<span style=\"color: #00d7ff; text-decoration-color: #00d7ff\">None</span>, <span style=\"color: #00af00; text-decoration-color: #00af00\">253</span>, <span style=\"color: #00af00; text-decoration-color: #00af00\">253</span>, <span style=\"color: #00af00; text-decoration-color: #00af00\">32</span>)        │             <span style=\"color: #00af00; text-decoration-color: #00af00\">896</span> │\n",
       "├──────────────────────────────────────┼─────────────────────────────┼─────────────────┤\n",
       "│ max_pooling2d_8 (<span style=\"color: #0087ff; text-decoration-color: #0087ff\">MaxPooling2D</span>)       │ (<span style=\"color: #00d7ff; text-decoration-color: #00d7ff\">None</span>, <span style=\"color: #00af00; text-decoration-color: #00af00\">126</span>, <span style=\"color: #00af00; text-decoration-color: #00af00\">126</span>, <span style=\"color: #00af00; text-decoration-color: #00af00\">32</span>)        │               <span style=\"color: #00af00; text-decoration-color: #00af00\">0</span> │\n",
       "├──────────────────────────────────────┼─────────────────────────────┼─────────────────┤\n",
       "│ conv2d_13 (<span style=\"color: #0087ff; text-decoration-color: #0087ff\">Conv2D</span>)                   │ (<span style=\"color: #00d7ff; text-decoration-color: #00d7ff\">None</span>, <span style=\"color: #00af00; text-decoration-color: #00af00\">124</span>, <span style=\"color: #00af00; text-decoration-color: #00af00\">124</span>, <span style=\"color: #00af00; text-decoration-color: #00af00\">64</span>)        │          <span style=\"color: #00af00; text-decoration-color: #00af00\">18,496</span> │\n",
       "├──────────────────────────────────────┼─────────────────────────────┼─────────────────┤\n",
       "│ max_pooling2d_9 (<span style=\"color: #0087ff; text-decoration-color: #0087ff\">MaxPooling2D</span>)       │ (<span style=\"color: #00d7ff; text-decoration-color: #00d7ff\">None</span>, <span style=\"color: #00af00; text-decoration-color: #00af00\">62</span>, <span style=\"color: #00af00; text-decoration-color: #00af00\">62</span>, <span style=\"color: #00af00; text-decoration-color: #00af00\">64</span>)          │               <span style=\"color: #00af00; text-decoration-color: #00af00\">0</span> │\n",
       "├──────────────────────────────────────┼─────────────────────────────┼─────────────────┤\n",
       "│ conv2d_14 (<span style=\"color: #0087ff; text-decoration-color: #0087ff\">Conv2D</span>)                   │ (<span style=\"color: #00d7ff; text-decoration-color: #00d7ff\">None</span>, <span style=\"color: #00af00; text-decoration-color: #00af00\">60</span>, <span style=\"color: #00af00; text-decoration-color: #00af00\">60</span>, <span style=\"color: #00af00; text-decoration-color: #00af00\">64</span>)          │          <span style=\"color: #00af00; text-decoration-color: #00af00\">36,928</span> │\n",
       "├──────────────────────────────────────┼─────────────────────────────┼─────────────────┤\n",
       "│ flatten_2 (<span style=\"color: #0087ff; text-decoration-color: #0087ff\">Flatten</span>)                  │ (<span style=\"color: #00d7ff; text-decoration-color: #00d7ff\">None</span>, <span style=\"color: #00af00; text-decoration-color: #00af00\">230400</span>)              │               <span style=\"color: #00af00; text-decoration-color: #00af00\">0</span> │\n",
       "├──────────────────────────────────────┼─────────────────────────────┼─────────────────┤\n",
       "│ dense_4 (<span style=\"color: #0087ff; text-decoration-color: #0087ff\">Dense</span>)                      │ (<span style=\"color: #00d7ff; text-decoration-color: #00d7ff\">None</span>, <span style=\"color: #00af00; text-decoration-color: #00af00\">64</span>)                  │      <span style=\"color: #00af00; text-decoration-color: #00af00\">14,745,664</span> │\n",
       "├──────────────────────────────────────┼─────────────────────────────┼─────────────────┤\n",
       "│ dense_5 (<span style=\"color: #0087ff; text-decoration-color: #0087ff\">Dense</span>)                      │ (<span style=\"color: #00d7ff; text-decoration-color: #00d7ff\">None</span>, <span style=\"color: #00af00; text-decoration-color: #00af00\">2</span>)                   │             <span style=\"color: #00af00; text-decoration-color: #00af00\">130</span> │\n",
       "└──────────────────────────────────────┴─────────────────────────────┴─────────────────┘\n",
       "</pre>\n"
      ],
      "text/plain": [
       "┏━━━━━━━━━━━━━━━━━━━━━━━━━━━━━━━━━━━━━━┳━━━━━━━━━━━━━━━━━━━━━━━━━━━━━┳━━━━━━━━━━━━━━━━━┓\n",
       "┃\u001b[1m \u001b[0m\u001b[1mLayer (type)                        \u001b[0m\u001b[1m \u001b[0m┃\u001b[1m \u001b[0m\u001b[1mOutput Shape               \u001b[0m\u001b[1m \u001b[0m┃\u001b[1m \u001b[0m\u001b[1m        Param #\u001b[0m\u001b[1m \u001b[0m┃\n",
       "┡━━━━━━━━━━━━━━━━━━━━━━━━━━━━━━━━━━━━━━╇━━━━━━━━━━━━━━━━━━━━━━━━━━━━━╇━━━━━━━━━━━━━━━━━┩\n",
       "│ conv2d_12 (\u001b[38;5;33mConv2D\u001b[0m)                   │ (\u001b[38;5;45mNone\u001b[0m, \u001b[38;5;34m253\u001b[0m, \u001b[38;5;34m253\u001b[0m, \u001b[38;5;34m32\u001b[0m)        │             \u001b[38;5;34m896\u001b[0m │\n",
       "├──────────────────────────────────────┼─────────────────────────────┼─────────────────┤\n",
       "│ max_pooling2d_8 (\u001b[38;5;33mMaxPooling2D\u001b[0m)       │ (\u001b[38;5;45mNone\u001b[0m, \u001b[38;5;34m126\u001b[0m, \u001b[38;5;34m126\u001b[0m, \u001b[38;5;34m32\u001b[0m)        │               \u001b[38;5;34m0\u001b[0m │\n",
       "├──────────────────────────────────────┼─────────────────────────────┼─────────────────┤\n",
       "│ conv2d_13 (\u001b[38;5;33mConv2D\u001b[0m)                   │ (\u001b[38;5;45mNone\u001b[0m, \u001b[38;5;34m124\u001b[0m, \u001b[38;5;34m124\u001b[0m, \u001b[38;5;34m64\u001b[0m)        │          \u001b[38;5;34m18,496\u001b[0m │\n",
       "├──────────────────────────────────────┼─────────────────────────────┼─────────────────┤\n",
       "│ max_pooling2d_9 (\u001b[38;5;33mMaxPooling2D\u001b[0m)       │ (\u001b[38;5;45mNone\u001b[0m, \u001b[38;5;34m62\u001b[0m, \u001b[38;5;34m62\u001b[0m, \u001b[38;5;34m64\u001b[0m)          │               \u001b[38;5;34m0\u001b[0m │\n",
       "├──────────────────────────────────────┼─────────────────────────────┼─────────────────┤\n",
       "│ conv2d_14 (\u001b[38;5;33mConv2D\u001b[0m)                   │ (\u001b[38;5;45mNone\u001b[0m, \u001b[38;5;34m60\u001b[0m, \u001b[38;5;34m60\u001b[0m, \u001b[38;5;34m64\u001b[0m)          │          \u001b[38;5;34m36,928\u001b[0m │\n",
       "├──────────────────────────────────────┼─────────────────────────────┼─────────────────┤\n",
       "│ flatten_2 (\u001b[38;5;33mFlatten\u001b[0m)                  │ (\u001b[38;5;45mNone\u001b[0m, \u001b[38;5;34m230400\u001b[0m)              │               \u001b[38;5;34m0\u001b[0m │\n",
       "├──────────────────────────────────────┼─────────────────────────────┼─────────────────┤\n",
       "│ dense_4 (\u001b[38;5;33mDense\u001b[0m)                      │ (\u001b[38;5;45mNone\u001b[0m, \u001b[38;5;34m64\u001b[0m)                  │      \u001b[38;5;34m14,745,664\u001b[0m │\n",
       "├──────────────────────────────────────┼─────────────────────────────┼─────────────────┤\n",
       "│ dense_5 (\u001b[38;5;33mDense\u001b[0m)                      │ (\u001b[38;5;45mNone\u001b[0m, \u001b[38;5;34m2\u001b[0m)                   │             \u001b[38;5;34m130\u001b[0m │\n",
       "└──────────────────────────────────────┴─────────────────────────────┴─────────────────┘\n"
      ]
     },
     "metadata": {},
     "output_type": "display_data"
    },
    {
     "data": {
      "text/html": [
       "<pre style=\"white-space:pre;overflow-x:auto;line-height:normal;font-family:Menlo,'DejaVu Sans Mono',consolas,'Courier New',monospace\"><span style=\"font-weight: bold\"> Total params: </span><span style=\"color: #00af00; text-decoration-color: #00af00\">14,802,114</span> (56.47 MB)\n",
       "</pre>\n"
      ],
      "text/plain": [
       "\u001b[1m Total params: \u001b[0m\u001b[38;5;34m14,802,114\u001b[0m (56.47 MB)\n"
      ]
     },
     "metadata": {},
     "output_type": "display_data"
    },
    {
     "data": {
      "text/html": [
       "<pre style=\"white-space:pre;overflow-x:auto;line-height:normal;font-family:Menlo,'DejaVu Sans Mono',consolas,'Courier New',monospace\"><span style=\"font-weight: bold\"> Trainable params: </span><span style=\"color: #00af00; text-decoration-color: #00af00\">14,802,114</span> (56.47 MB)\n",
       "</pre>\n"
      ],
      "text/plain": [
       "\u001b[1m Trainable params: \u001b[0m\u001b[38;5;34m14,802,114\u001b[0m (56.47 MB)\n"
      ]
     },
     "metadata": {},
     "output_type": "display_data"
    },
    {
     "data": {
      "text/html": [
       "<pre style=\"white-space:pre;overflow-x:auto;line-height:normal;font-family:Menlo,'DejaVu Sans Mono',consolas,'Courier New',monospace\"><span style=\"font-weight: bold\"> Non-trainable params: </span><span style=\"color: #00af00; text-decoration-color: #00af00\">0</span> (0.00 B)\n",
       "</pre>\n"
      ],
      "text/plain": [
       "\u001b[1m Non-trainable params: \u001b[0m\u001b[38;5;34m0\u001b[0m (0.00 B)\n"
      ]
     },
     "metadata": {},
     "output_type": "display_data"
    }
   ],
   "source": [
    "model.summary()"
   ]
  },
  {
   "cell_type": "code",
   "execution_count": 171,
   "metadata": {},
   "outputs": [
    {
     "name": "stdout",
     "output_type": "stream",
     "text": [
      "\u001b[1m1999/1999\u001b[0m \u001b[32m━━━━━━━━━━━━━━━━━━━━\u001b[0m\u001b[37m\u001b[0m \u001b[1m1652s\u001b[0m 825ms/step - accuracy: 0.8740 - loss: 0.3317\n"
     ]
    }
   ],
   "source": [
    "model.compile(optimizer='adam',\n",
    "              loss=tf.keras.losses.SparseCategoricalCrossentropy(from_logits=True),\n",
    "              metrics=['accuracy'])\n",
    "\n",
    "history = model.fit(train_generator, steps_per_epoch=len(train_generator), epochs=1)"
   ]
  },
  {
   "cell_type": "code",
   "execution_count": 205,
   "metadata": {},
   "outputs": [
    {
     "data": {
      "text/plain": [
       "{'accuracy': [0.8892120122909546], 'loss': [0.2905142307281494]}"
      ]
     },
     "execution_count": 205,
     "metadata": {},
     "output_type": "execute_result"
    }
   ],
   "source": [
    "history.history"
   ]
  },
  {
   "cell_type": "code",
   "execution_count": 197,
   "metadata": {},
   "outputs": [
    {
     "data": {
      "text/plain": [
       "<matplotlib.legend.Legend at 0x24d6b2ca120>"
      ]
     },
     "execution_count": 197,
     "metadata": {},
     "output_type": "execute_result"
    },
    {
     "data": {
      "image/png": "[encoded data removed]",
      "text/plain": [
       "<Figure size 640x480 with 1 Axes>"
      ]
     },
     "metadata": {},
     "output_type": "display_data"
    }
   ],
   "source": [
    "plt.plot(history.history['accuracy'], label='accuracy')\n",
    "#plt.plot(history.history['val_accuracy'], label = 'val_accuracy')\n",
    "plt.xlabel('Epoch')\n",
    "plt.ylabel('Accuracy')\n",
    "plt.ylim([0.5, 1])\n",
    "plt.xlim([0.5, 2])\n",
    "plt.legend(loc='lower right')\n",
    "\n",
    "#test_loss, test_acc = model.evaluate(train_generator)"
   ]
  },
  {
   "cell_type": "code",
   "execution_count": 185,
   "metadata": {
    "vscode": {
     "languageId": "plaintext"
    }
   },
   "outputs": [
    {
     "name": "stdout",
     "output_type": "stream",
     "text": [
      "0.9241713285446167\n"
     ]
    }
   ],
   "source": [
    "print(test_acc)"
   ]
  },
  {
   "cell_type": "code",
   "execution_count": 195,
   "metadata": {},
   "outputs": [
    {
     "name": "stderr",
     "output_type": "stream",
     "text": [
      "WARNING:absl:You are saving your model as an HDF5 file via `model.save()` or `keras.saving.save_model(model)`. This file format is considered legacy. We recommend using instead the native Keras format, e.g. `model.save('my_model.keras')` or `keras.saving.save_model(model, 'my_model.keras')`. \n"
     ]
    }
   ],
   "source": [
    "model.save(\"./model_01.h5\")"
   ]
  }
 ],
 "metadata": {
  "kernelspec": {
   "display_name": "Python 3 (ipykernel)",
   "language": "python",
   "name": "python3"
  },
  "language_info": {
   "codemirror_mode": {
    "name": "ipython",
    "version": 3
   },
   "file_extension": ".py",
   "mimetype": "text/x-python",
   "name": "python",
   "nbconvert_exporter": "python",
   "pygments_lexer": "ipython3",
   "version": "3.12.4"
  }
 },
 "nbformat": 4,
 "nbformat_minor": 4
}
