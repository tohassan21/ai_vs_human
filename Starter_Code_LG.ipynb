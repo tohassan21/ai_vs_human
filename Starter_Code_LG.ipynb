{
 "cells": [
  {
   "attachments": {},
   "cell_type": "markdown",
   "metadata": {},
   "source": [
    "# Project 4\n",
    "## Working with Images and AI"
   ]
  },
  {
   "attachments": {},
   "cell_type": "markdown",
   "metadata": {},
   "source": [
    "### Step 1: Make the images a smaller size for processing easier"
   ]
  },
  {
   "cell_type": "code",
   "execution_count": 20,
   "metadata": {},
   "outputs": [],
   "source": [
    "import os\n",
    "import glob\n",
    "import tensorflow as tf\n",
    "import pandas as pd\n",
    "import matplotlib.pyplot as plt\n",
    "import urllib.request\n",
    "import io\n",
    "import tensorflow.keras.preprocessing\n",
    "import matplotlib.pyplot\n",
    "import numpy\n",
    "from tensorflow.keras import datasets, layers, models\n",
    "from tensorflow.keras.utils import image_dataset_from_directory\n",
    "from tensorflow.keras.preprocessing import image\n",
    "from tensorflow.keras.models import Sequential\n",
    "from tensorflow.keras.layers import Conv2D, MaxPooling2D, Flatten, Dense\n",
    "from tensorflow.keras.applications.xception import (\n",
    "  Xception, preprocess_input, decode_predictions)\n"
   ]
  },
  {
   "cell_type": "code",
   "execution_count": 21,
   "metadata": {},
   "outputs": [
    {
     "name": "stdout",
     "output_type": "stream",
     "text": [
      "Resized images saved in Training_2000_Fixed/\n"
     ]
    }
   ],
   "source": [
    "# Define the folder where the images are housed\n",
    "folder_path = 'Training_2000_Raw/'\n",
    "\n",
    "# Get a list of all JPEG files in the folder\n",
    "all_files = glob.glob(os.path.join(folder_path, '*.jpg'))  # Only fetch .jpg files\n",
    "\n",
    "def resize_jpeg_image(image_path, new_height, new_width):\n",
    "    \n",
    "    # Read and decode the image\n",
    "    image_string = tf.io.read_file(image_path)\n",
    "    image = tf.image.decode_jpeg(image_string, channels=3)\n",
    "    \n",
    "    # Resize the image\n",
    "    resized_image = tf.image.resize(image, [new_height, new_width], method=tf.image.ResizeMethod.BILINEAR)\n",
    "    \n",
    "    # Convert to uint8 (0-224) for saving\n",
    "    resized_image = tf.cast(resized_image, tf.uint8)\n",
    "    \n",
    "    return resized_image\n",
    "\n",
    "# Resize all images and save with a new filename\n",
    "new_height = 224\n",
    "new_width = 224\n",
    "output_folder = 'Training_2000_Fixed/'\n",
    "\n",
    "# Ensure output folder exists\n",
    "os.makedirs(output_folder, exist_ok=True)\n",
    "\n",
    "for file_path in all_files:\n",
    "    # Resize image\n",
    "    resized_image = resize_jpeg_image(file_path, new_height, new_width)\n",
    "    \n",
    "    # Encode back to JPEG\n",
    "    encoded_image = tf.io.encode_jpeg(resized_image)\n",
    "    \n",
    "    # Generate new filename with \"_resized\"\n",
    "    base_name = os.path.basename(file_path)  # Extract filename\n",
    "    new_file_name = os.path.join(output_folder, base_name.replace(\".jpg\", \".jpg\"))\n",
    "\n",
    "    # Save the resized image\n",
    "    tf.io.write_file(new_file_name, encoded_image)\n",
    "\n",
    "print(f\"Resized images saved in {output_folder}\")"
   ]
  },
  {
   "cell_type": "code",
   "execution_count": 3,
   "metadata": {},
   "outputs": [],
   "source": [
    "# NOTE: it took 28 seconds to image process 2,000 images to the smaller proportional size"
   ]
  },
  {
   "attachments": {},
   "cell_type": "markdown",
   "metadata": {},
   "source": [
    "### Step 2: Create a Pandas Data Frame"
   ]
  },
  {
   "cell_type": "code",
   "execution_count": 23,
   "metadata": {
    "scrolled": true
   },
   "outputs": [],
   "source": [
    "# NOTE: I actually switched to the Classifying_Training_Images.ipynb file for processing"
   ]
  },
  {
   "cell_type": "markdown",
   "metadata": {},
   "source": []
  },
  {
   "cell_type": "code",
   "execution_count": null,
   "metadata": {},
   "outputs": [],
   "source": []
  },
  {
   "cell_type": "code",
   "execution_count": null,
   "metadata": {},
   "outputs": [],
   "source": []
  }
 ],
 "metadata": {
  "kernelspec": {
   "display_name": "Python 3 (ipykernel)",
   "language": "python",
   "name": "python3"
  },
  "language_info": {
   "codemirror_mode": {
    "name": "ipython",
    "version": 3
   },
   "file_extension": ".py",
   "mimetype": "text/x-python",
   "name": "python",
   "nbconvert_exporter": "python",
   "pygments_lexer": "ipython3",
   "version": "3.12.4"
  },
  "vscode": {
   "interpreter": {
    "hash": "31f2aee4e71d21fbe5cf8b01ff0e069b9275f58929596ceb00d14d90e3e16cd6"
   }
  }
 },
 "nbformat": 4,
 "nbformat_minor": 4
}
